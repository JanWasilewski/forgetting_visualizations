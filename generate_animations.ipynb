{
 "cells": [
  {
   "cell_type": "code",
   "execution_count": null,
   "metadata": {},
   "outputs": [],
   "source": [
    "import torch.optim as optim\n",
    "from torchvision import datasets, transforms\n",
    "\n",
    "from utils import *\n",
    "\n",
    "# Step 5: Load Data and Run Experiments\n",
    "transform = transforms.Compose([transforms.ToTensor(), transforms.Normalize((0.5,), (0.5,))])\n",
    "mnist_train = datasets.FashionMNIST(root=\"./data\", train=True, transform=transform, download=True)\n",
    "mnist_test = datasets.FashionMNIST(root=\"./data\", train=False, transform=transform, download=True)\n",
    "\n",
    "# Split MNIST into 5 tasks with 2 classes each\n",
    "tasks = split_mnist_by_classes(mnist_train)\n",
    "tasks_test = split_mnist_by_classes(mnist_train)\n",
    "\n",
    "\n",
    "# Create data loaders for each task\n",
    "batch_size = 64\n",
    "data_loaders = [DataLoader(task, batch_size=batch_size, shuffle=True) for task in tasks]\n",
    "\n",
    "# Initialize the model, optimizer, and criterion\n",
    "model = SimpleCNN()\n",
    "optimizer = optim.Adam(model.parameters(), lr=0.001)\n",
    "criterion = nn.CrossEntropyLoss()\n",
    "\n",
    "# Train without experience replay\n",
    "print(\"\\nTraining without Experience Replay\")\n",
    "# train_model(model, data_loaders, tasks_test, optimizer, criterion, anim_title=\"FMNIST_forget\")\n",
    "\n",
    "# Train with experience replay\n",
    "replay_model = SimpleCNN()\n",
    "replay_optimizer = optim.Adam(replay_model.parameters(), lr=0.001)\n",
    "replay_buffer = ReplayBufferReservoir(capacity=100)\n",
    "print(\"\\nTraining with Experience Replay\")\n",
    "train_model(replay_model, data_loaders, tasks_test, replay_optimizer, criterion, replay_buffer=replay_buffer, anim_title=\"FMNIST_forget\")"
   ]
  }
 ],
 "metadata": {
  "language_info": {
   "name": "python"
  }
 },
 "nbformat": 4,
 "nbformat_minor": 2
}
